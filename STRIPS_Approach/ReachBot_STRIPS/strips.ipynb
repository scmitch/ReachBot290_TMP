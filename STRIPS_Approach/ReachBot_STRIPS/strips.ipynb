{
 "cells": [
  {
   "cell_type": "markdown",
   "metadata": {},
   "source": [
    "# Breadth-first search for STRIPS domain defined in <em>Planning Algorithms</em>"
   ]
  },
  {
   "cell_type": "code",
   "execution_count": 1,
   "metadata": {},
   "outputs": [],
   "source": [
    "%load_ext autoreload\n",
    "%autoreload 2\n",
    "\n",
    "import matplotlib.pyplot as plt\n",
    "%matplotlib inline\n",
    "\n",
    "import numpy as np\n",
    "import time"
   ]
  },
  {
   "cell_type": "code",
   "execution_count": 2,
   "metadata": {},
   "outputs": [],
   "source": [
    "from strips import STRIPS, Node, Queue, get_plan"
   ]
  },
  {
   "cell_type": "code",
   "execution_count": 6,
   "metadata": {},
   "outputs": [],
   "source": [
    "# Find how many positions we have in the x-direction (vertical) and y-direction (horizontal)\n",
    "num_x_pos = 2\n",
    "num_y_pos = 4\n",
    "\n",
    "strip = STRIPS(num_x_pos, num_y_pos) # arguments define map size\n",
    "n0 = Node(strip)\n",
    "qq = Queue()\n",
    "qq.queue(n0)\n",
    "\n",
    "operators = ['move_foot1', 'move_foot2', 'move_foot3', 'move_foot4']\n",
    "max_depth = 5\n",
    "\n",
    "state_positions = [(x,y) for x in range(num_x_pos) for y in range(num_y_pos)]"
   ]
  },
  {
   "cell_type": "code",
   "execution_count": 7,
   "metadata": {},
   "outputs": [
    {
     "name": "stdout",
     "output_type": "stream",
     "text": [
      "solved\n",
      "0.15 seconds\n"
     ]
    }
   ],
   "source": [
    "t_start = time.perf_counter()\n",
    "\n",
    "while not qq.is_empty():    \n",
    "    # Since this is breath-first search and nodes are added to the beginning of the list,\n",
    "    # we need only check the first node of the list for max depth violation.\n",
    "    node0 = qq.list[0]\n",
    "    if node0.depth >= max_depth:\n",
    "        print('Max depth violated')\n",
    "        break\n",
    "\n",
    "    leaf_node = qq.dequeue()\n",
    "    \n",
    "    # Prevent a foot from stepping on top of another foot by checking for vacancy\n",
    "    occupany_list = leaf_node.strip.state\n",
    "    vacant_positions = [s for s in state_positions if s not in occupany_list]\n",
    "    \n",
    "    for operator in operators:\n",
    "        if operator != leaf_node.operator:  # Prevent the same foot from moving twice in a row\n",
    "            \n",
    "            for position in vacant_positions:\n",
    "                new_leaf = leaf_node.act(operator, position)\n",
    "                qq.queue(new_leaf)\n",
    "\n",
    "    if any([node.solved for node in qq.list]):\n",
    "        print('solved')\n",
    "        break\n",
    "\n",
    "t_stop = time.perf_counter()\n",
    "print(round(t_stop-t_start, 2), \"seconds\")"
   ]
  },
  {
   "cell_type": "code",
   "execution_count": 8,
   "metadata": {},
   "outputs": [
    {
     "data": {
      "text/plain": [
       "[['move_foot1', (0, 2)],\n",
       " ['move_foot2', (0, 3)],\n",
       " ['move_foot3', (1, 2)],\n",
       " ['move_foot4', (1, 3)]]"
      ]
     },
     "execution_count": 8,
     "metadata": {},
     "output_type": "execute_result"
    }
   ],
   "source": [
    "solved_node = [node for node in qq.list if node.solved][0]\n",
    "plan = get_plan(solved_node)\n",
    "plan"
   ]
  },
  {
   "cell_type": "code",
   "execution_count": null,
   "metadata": {},
   "outputs": [],
   "source": []
  }
 ],
 "metadata": {
  "kernelspec": {
   "display_name": "Python 3",
   "language": "python",
   "name": "python3"
  },
  "language_info": {
   "codemirror_mode": {
    "name": "ipython",
    "version": 3
   },
   "file_extension": ".py",
   "mimetype": "text/x-python",
   "name": "python",
   "nbconvert_exporter": "python",
   "pygments_lexer": "ipython3",
   "version": "3.7.3"
  }
 },
 "nbformat": 4,
 "nbformat_minor": 2
}
