{
 "cells": [
  {
   "cell_type": "markdown",
   "metadata": {},
   "source": [
    "# Breadth-first search for STRIPS domain defined in <em>Planning Algorithms</em>"
   ]
  },
  {
   "cell_type": "code",
   "execution_count": 7,
   "metadata": {},
   "outputs": [
    {
     "name": "stdout",
     "output_type": "stream",
     "text": [
      "The autoreload extension is already loaded. To reload it, use:\n",
      "  %reload_ext autoreload\n"
     ]
    }
   ],
   "source": [
    "%load_ext autoreload\n",
    "%autoreload 2\n",
    "\n",
    "import matplotlib.pyplot as plt\n",
    "%matplotlib inline\n",
    "\n",
    "import numpy as np"
   ]
  },
  {
   "cell_type": "code",
   "execution_count": 8,
   "metadata": {},
   "outputs": [],
   "source": [
    "from strips import STRIPS, Node, Queue, get_plan"
   ]
  },
  {
   "cell_type": "code",
   "execution_count": 9,
   "metadata": {},
   "outputs": [],
   "source": [
    "strip = STRIPS()\n",
    "n0 = Node(strip)\n",
    "qq = Queue()\n",
    "qq.queue(n0)\n",
    "\n",
    "operators = ['place_cap', 'remove_cap', 'insert_0', 'insert_1']\n",
    "max_depth = 5"
   ]
  },
  {
   "cell_type": "code",
   "execution_count": 10,
   "metadata": {},
   "outputs": [
    {
     "name": "stdout",
     "output_type": "stream",
     "text": [
      "solved\n"
     ]
    }
   ],
   "source": [
    "while not qq.is_empty():\n",
    "    if all([node.depth >= max_depth for node in qq.list]):\n",
    "        print('Max depth violated')\n",
    "        break\n",
    "\n",
    "    leaf_node = qq.dequeue()\n",
    "    for operator in operators:\n",
    "        new_leaf = leaf_node.act(operator)\n",
    "        qq.queue(new_leaf)\n",
    "\n",
    "    if any([node.solved for node in qq.list]):\n",
    "        print('solved')\n",
    "        break"
   ]
  },
  {
   "cell_type": "code",
   "execution_count": 5,
   "metadata": {},
   "outputs": [
    {
     "data": {
      "text/plain": [
       "['remove_cap', 'insert_0', 'insert_1', 'place_cap']"
      ]
     },
     "execution_count": 5,
     "metadata": {},
     "output_type": "execute_result"
    }
   ],
   "source": [
    "solved_node = [node for node in qq.list if node.solved][0]\n",
    "plan = get_plan(solved_node)\n",
    "plan"
   ]
  },
  {
   "cell_type": "code",
   "execution_count": null,
   "metadata": {},
   "outputs": [],
   "source": []
  }
 ],
 "metadata": {
  "kernelspec": {
   "display_name": "Python 3",
   "language": "python",
   "name": "python3"
  },
  "language_info": {
   "codemirror_mode": {
    "name": "ipython",
    "version": 3
   },
   "file_extension": ".py",
   "mimetype": "text/x-python",
   "name": "python",
   "nbconvert_exporter": "python",
   "pygments_lexer": "ipython3",
   "version": "3.7.3"
  }
 },
 "nbformat": 4,
 "nbformat_minor": 2
}
